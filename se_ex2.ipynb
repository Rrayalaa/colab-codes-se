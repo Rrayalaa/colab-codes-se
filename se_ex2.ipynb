{
  "nbformat": 4,
  "nbformat_minor": 0,
  "metadata": {
    "colab": {
      "provenance": [],
      "authorship_tag": "ABX9TyMT/r2iiFPyU2hqN8QoQLCS",
      "include_colab_link": true
    },
    "kernelspec": {
      "name": "python3",
      "display_name": "Python 3"
    },
    "language_info": {
      "name": "python"
    }
  },
  "cells": [
    {
      "cell_type": "markdown",
      "metadata": {
        "id": "view-in-github",
        "colab_type": "text"
      },
      "source": [
        "<a href=\"https://colab.research.google.com/github/Rrayalaa/colab-codes-se/blob/main/se_ex2.ipynb\" target=\"_parent\"><img src=\"https://colab.research.google.com/assets/colab-badge.svg\" alt=\"Open In Colab\"/></a>"
      ]
    },
    {
      "cell_type": "code",
      "execution_count": null,
      "metadata": {
        "id": "9ZgBCsvwmOI6"
      },
      "outputs": [],
      "source": [
        "def tempurature_modeling(a,b,c,time):\n",
        "  tempurature = a*time**2 + b*time + c\n",
        "  return tempurature"
      ]
    },
    {
      "cell_type": "code",
      "source": [
        "#hardcored variables\n",
        "a,b,c=0.2,4,11\n",
        "time = 6"
      ],
      "metadata": {
        "id": "TLzQT1CwoLBf"
      },
      "execution_count": null,
      "outputs": []
    },
    {
      "cell_type": "code",
      "source": [
        "#display variables\n",
        "print(\"hard coded variables for weather modeling\")\n",
        "print(\"tempurature for hardcoded coefficients at time \" , time  , \"hours: \", tempurature_modeling(a,b,c,time))"
      ],
      "metadata": {
        "colab": {
          "base_uri": "https://localhost:8080/"
        },
        "id": "f5gu-gxGxBxp",
        "outputId": "c2b798ef-56da-44f7-8ea6-058de0477b31"
      },
      "execution_count": null,
      "outputs": [
        {
          "output_type": "stream",
          "name": "stdout",
          "text": [
            "hard coded variables for weather modeling\n",
            "tempurature for hardcoded coefficients at time  6 hours:  42.2\n"
          ]
        }
      ]
    },
    {
      "cell_type": "code",
      "source": [
        "a = float(input(\"enter coefficient a: \"))\n",
        "b = float(input(\"enter coefficient b: \"))\n",
        "c = float(input(\"enter coefficient c: \"))"
      ],
      "metadata": {
        "colab": {
          "base_uri": "https://localhost:8080/"
        },
        "id": "WXMAyAxxxmWN",
        "outputId": "751e97b2-56dc-4265-d35a-f5569b35ad96"
      },
      "execution_count": null,
      "outputs": [
        {
          "name": "stdout",
          "output_type": "stream",
          "text": [
            "enter coefficient a: 0.2\n",
            "enter coefficient b: 4\n",
            "enter coefficient c: 11\n"
          ]
        }
      ]
    },
    {
      "cell_type": "code",
      "source": [
        "time = float(input(\"enter time: \"))"
      ],
      "metadata": {
        "colab": {
          "base_uri": "https://localhost:8080/"
        },
        "id": "_WXqvgdzx5pw",
        "outputId": "814b4210-0016-4675-cb1f-095d6553f079"
      },
      "execution_count": null,
      "outputs": [
        {
          "name": "stdout",
          "output_type": "stream",
          "text": [
            "enter time: 6\n"
          ]
        }
      ]
    },
    {
      "cell_type": "code",
      "source": [
        "print(\"hard coded variables for weather modeling\")\n",
        "print(\"tempurature from keyboard coefficients at time \", time , \"hours: \", tempurature_modeling(a,b,c,time))"
      ],
      "metadata": {
        "colab": {
          "base_uri": "https://localhost:8080/"
        },
        "id": "2yieb4flyEqd",
        "outputId": "6a36d93e-e886-4d08-9a2c-784ca26bbdc6"
      },
      "execution_count": null,
      "outputs": [
        {
          "output_type": "stream",
          "name": "stdout",
          "text": [
            "hard coded variables for weather modeling\n",
            "tempurature from keyboard coefficients at time  6.0 hours:  42.2\n"
          ]
        }
      ]
    },
    {
      "cell_type": "code",
      "source": [
        "#read coefficients from a file\n",
        "def read_from_file(filename):\n",
        "    with open(filename, 'r') as file:\n",
        "        lines = file.readlines()\n",
        "    # Use line.strip().split(',') to call the split method on the string\n",
        "    coefficients = [tuple(map(float, line.strip().split(','))) for line in lines]\n",
        "    return coefficients"
      ],
      "metadata": {
        "id": "K5Z9aghIzFU9"
      },
      "execution_count": null,
      "outputs": []
    },
    {
      "cell_type": "code",
      "source": [
        "coefficients = read_from_file('/content/simple txt.txt')\n",
        "a, b, c, time = coefficients[0]\n",
        "tempurature = tempurature_modeling(a,b,c,time)\n",
        "print(\"hard coded variables for weather modeling\")\n",
        "print(\"tempurature from file coefficients at time \", time , \"hours: \", tempurature)"
      ],
      "metadata": {
        "colab": {
          "base_uri": "https://localhost:8080/"
        },
        "id": "SJOKqMQezq06",
        "outputId": "26200ad3-e2e4-40ea-8036-6e59adb6fe1a"
      },
      "execution_count": null,
      "outputs": [
        {
          "output_type": "stream",
          "name": "stdout",
          "text": [
            "hard coded variables for weather modeling\n",
            "tempurature from file coefficients at time  6.0 hours:  42.2\n"
          ]
        }
      ]
    },
    {
      "cell_type": "code",
      "source": [
        "for idx, (a, b, c, time) in enumerate(coefficients):\n",
        "  tempurature = tempurature_modeling(a,b,c,time)\n",
        "  print(\"tempurature from file coefficients at time \", time , \"hours: \", tempurature_modeling(a,b,c,time))"
      ],
      "metadata": {
        "colab": {
          "base_uri": "https://localhost:8080/"
        },
        "id": "ttO97LiW2rju",
        "outputId": "a22d64c3-2d01-450c-8d9b-caf546b79b64"
      },
      "execution_count": null,
      "outputs": [
        {
          "output_type": "stream",
          "name": "stdout",
          "text": [
            "tempurature from file coefficients at time  6.0 hours:  42.2\n"
          ]
        }
      ]
    }
  ]
}